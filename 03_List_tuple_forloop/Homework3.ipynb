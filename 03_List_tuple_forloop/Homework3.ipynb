{
 "cells": [
  {
   "cell_type": "code",
   "execution_count": 4,
   "id": "7becb860-75d5-46e2-a7d6-bc15bcfff96a",
   "metadata": {},
   "outputs": [],
   "source": [
    "# You have given a Python list. Write a program to find value 20 in the list, and if it is present,\n",
    "# replace it with 200. Only update the first occurrence of an item.\n",
    "list1 = [5, 10, 15, 20, 25, 50, 20]"
   ]
  },
  {
   "cell_type": "code",
   "execution_count": 2,
   "id": "e52feca6-7a0c-443e-8c88-3cffdf459f59",
   "metadata": {},
   "outputs": [],
   "source": [
    "# Swap first and last elements in the given list\n",
    "lst = ['first', 'a', 'b', 'c', 'd', 'last']"
   ]
  },
  {
   "cell_type": "code",
   "execution_count": 3,
   "id": "bc85422f-3c49-40f6-a020-ea77594f2f38",
   "metadata": {
    "tags": []
   },
   "outputs": [],
   "source": [
    "# Concatenate two lists to get the new one: ['Hello Dear', 'Hello Sir', 'take Dear', 'take Sir']\n",
    "list1 = [\"Hello \", \"take \"]\n",
    "list2 = [\"Dear\", \"Sir\"]"
   ]
  },
  {
   "cell_type": "code",
   "execution_count": 4,
   "id": "1f1e0df1-8ce1-4bb6-a7f9-972342fef298",
   "metadata": {},
   "outputs": [],
   "source": [
    "# Using for loop calculate the factorial of 11.\n",
    "# Factorial of 11 (11!) is a product of 1 x 2 x 3 ... x 11"
   ]
  },
  {
   "cell_type": "code",
   "execution_count": 5,
   "id": "4e46a2ad-52fa-445c-8d3e-28a61f270c9a",
   "metadata": {},
   "outputs": [],
   "source": [
    "# You have a text. Write a program to return a list of words of this text cleared of any punctuation, and capitalized. \n",
    "# This list shouldn't contain any word starts with 'a' ignoring case.\n",
    "\n",
    "text = 'Lorem ipsum dolor sit amet, consectetur adipiscing elit. Nam consequat molestie sem, eu lacinia nisi hendrerit et. Maecenas risus ex, cursus ac tincidunt eu, porttitor ac diam. Morbi posuere laoreet ante, sed aliquam risus laoreet vel. Donec fringilla sollicitudin metus, quis finibus odio tincidunt quis. In a neque semper, sodales enim bibendum, sodales tellus. Sed eu efficitur metus. Vestibulum ante ipsum primis in faucibus orci luctus et ultrices posuere cubilia curae; Suspendisse placerat tincidunt lectus, id commodo lacus sollicitudin ut. Aliquam sed consectetur sem. Nullam euismod magna vitae augue tristique interdum ac id dui. Nam neque libero, lacinia ut purus.'"
   ]
  }
 ],
 "metadata": {
  "kernelspec": {
   "display_name": "Python 3 (ipykernel)",
   "language": "python",
   "name": "python3"
  },
  "language_info": {
   "codemirror_mode": {
    "name": "ipython",
    "version": 3
   },
   "file_extension": ".py",
   "mimetype": "text/x-python",
   "name": "python",
   "nbconvert_exporter": "python",
   "pygments_lexer": "ipython3",
   "version": "3.10.7"
  }
 },
 "nbformat": 4,
 "nbformat_minor": 5
}
