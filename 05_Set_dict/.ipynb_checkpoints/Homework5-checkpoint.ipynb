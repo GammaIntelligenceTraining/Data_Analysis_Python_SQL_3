{
 "cells": [
  {
   "cell_type": "code",
   "execution_count": 7,
   "id": "f228a56b-e10a-43bc-8b99-1c3745c6ed00",
   "metadata": {},
   "outputs": [],
   "source": [
    "# Add a list of elements to a set\n",
    "sample_set = {\"Yellow\", \"Orange\", \"Black\"}\n",
    "sample_list = [\"Blue\", \"Green\", \"Red\"]"
   ]
  },
  {
   "cell_type": "code",
   "execution_count": 8,
   "id": "3939afd0-cf2d-4a8e-8ae2-95ff308a81ba",
   "metadata": {},
   "outputs": [],
   "source": [
    "# Return a new set of identical items from two sets\n",
    "set1 = {10, 20, 30, 40, 50}\n",
    "set2 = {30, 40, 50, 60, 70}"
   ]
  },
  {
   "cell_type": "code",
   "execution_count": 9,
   "id": "4a1cbde1-7f34-4af7-8372-0aff0886541f",
   "metadata": {},
   "outputs": [],
   "source": [
    "# Delete a list of keys from a dictionary\n",
    "sample_dict = {\n",
    "    \"name\": \"Kelly\",\n",
    "    \"age\": 25,\n",
    "    \"salary\": 8000,\n",
    "    \"city\": \"New york\"\n",
    "}\n",
    "\n",
    "keys = [\"name\", \"salary\"]"
   ]
  },
  {
   "cell_type": "code",
   "execution_count": 1,
   "id": "5ee8c484-8dbe-4f6d-984d-0fcfa7870510",
   "metadata": {},
   "outputs": [],
   "source": [
    "# You have a dictionary with keys 'names' and 'ages' and two empty lists as values. \n",
    "# Fill these lists with the elements from the set ('names' for strings, 'ages' for integers) \n",
    "d = {'names': [], 'ages': []}\n",
    "s = {14, 27, 'Michel', 22, 'Helen', 'Adam', 48, 'Irma', 'Stefan', 19}"
   ]
  }
 ],
 "metadata": {
  "kernelspec": {
   "display_name": "Python 3 (ipykernel)",
   "language": "python",
   "name": "python3"
  },
  "language_info": {
   "codemirror_mode": {
    "name": "ipython",
    "version": 3
   },
   "file_extension": ".py",
   "mimetype": "text/x-python",
   "name": "python",
   "nbconvert_exporter": "python",
   "pygments_lexer": "ipython3",
   "version": "3.12.1"
  }
 },
 "nbformat": 4,
 "nbformat_minor": 5
}
