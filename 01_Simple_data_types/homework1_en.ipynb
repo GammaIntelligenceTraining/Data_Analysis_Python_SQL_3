{
 "cells": [
  {
   "cell_type": "markdown",
   "id": "f72a4aeb-2823-4d3a-892a-04e8d83318e0",
   "metadata": {},
   "source": [
    "Write a code that:: \n",
    "1. Calculates age from the given data (current_year - year of birth)\n",
    "2. Find the missing part of the code (code_2)\n",
    "    + Find the remainder of x divided by y\n",
    "    + Multiply the obtained result by 13\n",
    "    + Take the square root of the result (similar to raising to the power of 0.5)\n",
    "    + Take the integer part of the result\n",
    "3. Combine the code into a separate variable\\\n",
    "    Example:\\\n",
    "    475-12-967\n",
    "4. Print the string:\\\n",
    "    Example:\\\n",
    "    Hello Mary Gold. You are 26 years old. Your secret code is 475-12-967."
   ]
  },
  {
   "cell_type": "code",
   "execution_count": 3,
   "id": "c82683eb-c4a8-46c6-a3f9-ea572a14f00b",
   "metadata": {},
   "outputs": [],
   "source": [
    "# years\n",
    "current_year = 2022\n",
    "year_of_birth = 1988"
   ]
  },
  {
   "cell_type": "code",
   "execution_count": 2,
   "id": "9e40832d-6319-4dfe-aaf6-0d8e7b733269",
   "metadata": {},
   "outputs": [],
   "source": [
    "# code parts\n",
    "code_1 = '354'\n",
    "code_3 = 132"
   ]
  },
  {
   "cell_type": "code",
   "execution_count": 3,
   "id": "e02c0f26-29be-4af8-b499-90717f67cdb0",
   "metadata": {},
   "outputs": [],
   "source": [
    "# name\n",
    "user_name = 'John'\n",
    "user_surname = 'Smith'"
   ]
  },
  {
   "cell_type": "code",
   "execution_count": 4,
   "id": "3503daad-5422-4e8d-93f4-284326d34354",
   "metadata": {},
   "outputs": [],
   "source": [
    "# code 2 data\n",
    "x = 152\n",
    "y = 132"
   ]
  }
 ],
 "metadata": {
  "kernelspec": {
   "display_name": "Python 3 (ipykernel)",
   "language": "python",
   "name": "python3"
  },
  "language_info": {
   "codemirror_mode": {
    "name": "ipython",
    "version": 3
   },
   "file_extension": ".py",
   "mimetype": "text/x-python",
   "name": "python",
   "nbconvert_exporter": "python",
   "pygments_lexer": "ipython3",
   "version": "3.12.1"
  }
 },
 "nbformat": 4,
 "nbformat_minor": 5
}
