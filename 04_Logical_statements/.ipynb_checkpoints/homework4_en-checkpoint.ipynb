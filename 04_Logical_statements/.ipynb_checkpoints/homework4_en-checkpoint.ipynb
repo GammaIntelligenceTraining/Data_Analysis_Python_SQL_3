{
 "cells": [
  {
   "cell_type": "code",
   "execution_count": 9,
   "id": "45f8b9f8-5fa1-4ccd-a28e-9791a22bef1f",
   "metadata": {},
   "outputs": [],
   "source": [
    "# Given a list where each element is a year. Determine whether the given year is a leap year. If the year is a leap year,\n",
    "# print YES, otherwise print NO. According to the Gregorian calendar, a year is a leap year if its number is a multiple of 4,\n",
    "# but not a multiple of 100 OR if it is a multiple of 400.\n",
    "\n",
    "years_list = [2012, 2011, 1492, 1861, 1600, 1700, 1800, 1900, 2000]"
   ]
  },
  {
   "cell_type": "code",
   "execution_count": 11,
   "id": "2e35cf28-67a6-4501-ac06-8d61191ab351",
   "metadata": {},
   "outputs": [
    {
     "name": "stdout",
     "output_type": "stream",
     "text": [
      "YES\n",
      "NO\n",
      "YES\n",
      "NO\n",
      "YES\n",
      "NO\n",
      "NO\n",
      "NO\n",
      "YES\n"
     ]
    }
   ],
   "source": [
    "for year in years_list:\n",
    "    if year % 4 == 0 and year % 100 != 0:\n",
    "        print('YES')\n",
    "    elif year % 400 == 0:\n",
    "        print('YES')\n",
    "    else:\n",
    "        print('NO')"
   ]
  },
  {
   "cell_type": "code",
   "execution_count": 12,
   "id": "b0f0202b-622b-42db-bf6b-39178c3edac6",
   "metadata": {},
   "outputs": [
    {
     "name": "stdout",
     "output_type": "stream",
     "text": [
      "YES\n",
      "NO\n",
      "YES\n",
      "NO\n",
      "YES\n",
      "NO\n",
      "NO\n",
      "NO\n",
      "YES\n"
     ]
    }
   ],
   "source": [
    "for year in years_list:\n",
    "    if year % 4 == 0 and year % 100 != 0 or year % 400 == 0:\n",
    "        print('YES')\n",
    "    else:\n",
    "        print('NO')"
   ]
  },
  {
   "cell_type": "code",
   "execution_count": 20,
   "id": "3db58fc5-ba2f-4b44-a1b8-5adf7e3ae40c",
   "metadata": {
    "tags": []
   },
   "outputs": [],
   "source": [
    "# Given three variables, each of which can take either True or False.\n",
    "# Write a program that outputs True if at least 2 out of the 3 variables have the value True.\n",
    "# The code should work for any possible combination of variable values.\n",
    "\n",
    "var1 = False\n",
    "var2 = True\n",
    "var3 = True"
   ]
  },
  {
   "cell_type": "code",
   "execution_count": 21,
   "id": "81aabef2-a93f-4991-af93-0b2a544f9ce2",
   "metadata": {},
   "outputs": [
    {
     "data": {
      "text/plain": [
       "11"
      ]
     },
     "execution_count": 21,
     "metadata": {},
     "output_type": "execute_result"
    }
   ],
   "source": [
    "10 + True"
   ]
  },
  {
   "cell_type": "code",
   "execution_count": 22,
   "id": "7833c741-2207-4c64-bf79-3611c631dd88",
   "metadata": {},
   "outputs": [
    {
     "data": {
      "text/plain": [
       "True"
      ]
     },
     "execution_count": 22,
     "metadata": {},
     "output_type": "execute_result"
    }
   ],
   "source": [
    "var1 + var2 + var3 >= 2"
   ]
  },
  {
   "cell_type": "code",
   "execution_count": 23,
   "id": "a79cad12-1512-4b4d-a488-5d7087da1945",
   "metadata": {},
   "outputs": [
    {
     "data": {
      "text/plain": [
       "True"
      ]
     },
     "execution_count": 23,
     "metadata": {},
     "output_type": "execute_result"
    }
   ],
   "source": [
    "var1 and var2 or var2 and var3 or var1 and var3"
   ]
  },
  {
   "cell_type": "code",
   "execution_count": 3,
   "id": "a7a96cf2-17ad-4d97-a0c6-d4dcca1037cb",
   "metadata": {
    "tags": []
   },
   "outputs": [],
   "source": [
    "# Write a program that prompts the user for a string and checks if the string contains only unique characters."
   ]
  },
  {
   "cell_type": "code",
   "execution_count": 26,
   "id": "344876d3-cc67-4141-9d1a-bffc550a3c65",
   "metadata": {},
   "outputs": [
    {
     "name": "stdin",
     "output_type": "stream",
     "text": [
      "Please input smthng:  abcdefg\n"
     ]
    },
    {
     "name": "stdout",
     "output_type": "stream",
     "text": [
      "Only unique\n"
     ]
    }
   ],
   "source": [
    "string = input('Please input smthng: ')\n",
    "\n",
    "if len(string) == len(set(string)):\n",
    "    print('Only unique')\n",
    "else:\n",
    "    print('Repeating characters')"
   ]
  },
  {
   "cell_type": "code",
   "execution_count": 27,
   "id": "4c6dc4d0-f019-47ff-b6d1-fd354358ab8a",
   "metadata": {},
   "outputs": [],
   "source": [
    "# Add a list of elements to a set\n",
    "sample_set = {\"Yellow\", \"Orange\", \"Black\"}\n",
    "sample_list = [\"Blue\", \"Green\", \"Red\"]"
   ]
  },
  {
   "cell_type": "code",
   "execution_count": 30,
   "id": "58a41442-6be6-45b1-b4d7-d590f3cdda43",
   "metadata": {},
   "outputs": [],
   "source": [
    "sample_set.update(sample_list)"
   ]
  },
  {
   "cell_type": "code",
   "execution_count": 31,
   "id": "6783bd53-4e03-4f86-a0e6-f94e231c6a92",
   "metadata": {},
   "outputs": [
    {
     "data": {
      "text/plain": [
       "{'Black', 'Blue', 'Green', 'Orange', 'Red', 'Yellow'}"
      ]
     },
     "execution_count": 31,
     "metadata": {},
     "output_type": "execute_result"
    }
   ],
   "source": [
    "sample_set"
   ]
  },
  {
   "cell_type": "code",
   "execution_count": 32,
   "id": "c7bcf55c-3c0f-4f5a-aede-b234207e0c76",
   "metadata": {},
   "outputs": [],
   "source": [
    "# Return a new set of identical items from two sets\n",
    "set1 = {10, 20, 30, 40, 50}\n",
    "set2 = {30, 40, 50, 60, 70}"
   ]
  },
  {
   "cell_type": "code",
   "execution_count": 34,
   "id": "6eab0e8f-57cd-46aa-b03b-33f0d097df2c",
   "metadata": {},
   "outputs": [
    {
     "data": {
      "text/plain": [
       "{30, 40, 50}"
      ]
     },
     "execution_count": 34,
     "metadata": {},
     "output_type": "execute_result"
    }
   ],
   "source": [
    "set1 & set2"
   ]
  },
  {
   "cell_type": "code",
   "execution_count": 6,
   "id": "f96b6b29-7802-4a22-a40d-aba6d03c3c5c",
   "metadata": {},
   "outputs": [],
   "source": [
    "# Delete a list of keys from a dictionary\n",
    "sample_dict = {\n",
    "    \"name\": \"Kelly\",\n",
    "    \"age\": 25,\n",
    "    \"salary\": 8000,\n",
    "    \"city\": \"New york\"\n",
    "}\n",
    "\n",
    "keys = [\"name\", \"salary\"]"
   ]
  },
  {
   "cell_type": "code",
   "execution_count": 35,
   "id": "44963033-0107-472e-bfd8-c7ff70834f12",
   "metadata": {},
   "outputs": [
    {
     "data": {
      "text/plain": [
       "{'age': 25, 'city': 'New york'}"
      ]
     },
     "execution_count": 35,
     "metadata": {},
     "output_type": "execute_result"
    }
   ],
   "source": [
    "for key in keys:\n",
    "    sample_dict.pop(key)\n",
    "\n",
    "sample_dict"
   ]
  },
  {
   "cell_type": "code",
   "execution_count": 36,
   "id": "d9ee398f-93d2-411b-bfc1-2fad3a5791a8",
   "metadata": {},
   "outputs": [],
   "source": [
    "# You have a dictionary with keys 'names' and 'ages' and two empty lists as values. \n",
    "# Fill these lists with the elements from the set ('names' for strings, 'ages' for integers) \n",
    "d = {'names': [], 'ages': []}\n",
    "s = {14, 27, 'Michel', 22, 'Helen', 'Adam', 48, 'Irma', 'Stefan', 19}"
   ]
  },
  {
   "cell_type": "code",
   "execution_count": 37,
   "id": "aff0ab79-72ef-4a22-8586-f14f7c03ea1d",
   "metadata": {},
   "outputs": [],
   "source": [
    "for el in s:\n",
    "    if type(el) == int:\n",
    "        d['ages'].append(el)\n",
    "    elif type(el) == str:\n",
    "        d['names'].append(el)"
   ]
  },
  {
   "cell_type": "code",
   "execution_count": 38,
   "id": "91a78c92-e530-4c40-b7ac-96ba9710fd1a",
   "metadata": {},
   "outputs": [
    {
     "data": {
      "text/plain": [
       "{'names': ['Irma', 'Michel', 'Helen', 'Stefan', 'Adam'],\n",
       " 'ages': [14, 48, 19, 22, 27]}"
      ]
     },
     "execution_count": 38,
     "metadata": {},
     "output_type": "execute_result"
    }
   ],
   "source": [
    "d"
   ]
  }
 ],
 "metadata": {
  "kernelspec": {
   "display_name": "Python 3 (ipykernel)",
   "language": "python",
   "name": "python3"
  },
  "language_info": {
   "codemirror_mode": {
    "name": "ipython",
    "version": 3
   },
   "file_extension": ".py",
   "mimetype": "text/x-python",
   "name": "python",
   "nbconvert_exporter": "python",
   "pygments_lexer": "ipython3",
   "version": "3.12.1"
  }
 },
 "nbformat": 4,
 "nbformat_minor": 5
}
