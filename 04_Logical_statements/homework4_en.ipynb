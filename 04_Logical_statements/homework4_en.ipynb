{
 "cells": [
  {
   "cell_type": "code",
   "execution_count": 1,
   "id": "45f8b9f8-5fa1-4ccd-a28e-9791a22bef1f",
   "metadata": {},
   "outputs": [],
   "source": [
    "# Given a list where each element is a year. Determine whether the given year is a leap year. If the year is a leap year,\n",
    "# print YES, otherwise print NO. According to the Gregorian calendar, a year is a leap year if its number is a multiple of 4,\n",
    "# but not a multiple of 100 OR if it is a multiple of 400.\n",
    "\n",
    "years_list = [2012, 2011, 1492, 1861, 1600, 1700, 1800, 1900, 2000]"
   ]
  },
  {
   "cell_type": "code",
   "execution_count": 2,
   "id": "3db58fc5-ba2f-4b44-a1b8-5adf7e3ae40c",
   "metadata": {
    "tags": []
   },
   "outputs": [],
   "source": [
    "# Given three variables, each of which can take either True or False.\n",
    "# Write a program that outputs True if at least 2 out of the 3 variables have the value True.\n",
    "# The code should work for any possible combination of variable values.\n",
    "\n",
    "var1 = False\n",
    "var2 = True\n",
    "var3 = True"
   ]
  },
  {
   "cell_type": "code",
   "execution_count": 3,
   "id": "a7a96cf2-17ad-4d97-a0c6-d4dcca1037cb",
   "metadata": {
    "tags": []
   },
   "outputs": [],
   "source": [
    "# Write a program that prompts the user for a string and checks if the string contains only unique characters."
   ]
  },
  {
   "cell_type": "code",
   "execution_count": 4,
   "id": "4c6dc4d0-f019-47ff-b6d1-fd354358ab8a",
   "metadata": {},
   "outputs": [],
   "source": [
    "# Add a list of elements to a set\n",
    "sample_set = {\"Yellow\", \"Orange\", \"Black\"}\n",
    "sample_list = [\"Blue\", \"Green\", \"Red\"]"
   ]
  },
  {
   "cell_type": "code",
   "execution_count": 5,
   "id": "c7bcf55c-3c0f-4f5a-aede-b234207e0c76",
   "metadata": {},
   "outputs": [],
   "source": [
    "# Return a new set of identical items from two sets\n",
    "set1 = {10, 20, 30, 40, 50}\n",
    "set2 = {30, 40, 50, 60, 70}"
   ]
  },
  {
   "cell_type": "code",
   "execution_count": 6,
   "id": "f96b6b29-7802-4a22-a40d-aba6d03c3c5c",
   "metadata": {},
   "outputs": [],
   "source": [
    "# Delete a list of keys from a dictionary\n",
    "sample_dict = {\n",
    "    \"name\": \"Kelly\",\n",
    "    \"age\": 25,\n",
    "    \"salary\": 8000,\n",
    "    \"city\": \"New york\"\n",
    "}\n",
    "\n",
    "keys = [\"name\", \"salary\"]"
   ]
  },
  {
   "cell_type": "code",
   "execution_count": 7,
   "id": "d9ee398f-93d2-411b-bfc1-2fad3a5791a8",
   "metadata": {},
   "outputs": [],
   "source": [
    "# You have a dictionary with keys 'names' and 'ages' and two empty lists as values. \n",
    "# Fill these lists with the elements from the set ('names' for strings, 'ages' for integers) \n",
    "d = {'names': [], 'ages': []}\n",
    "s = {14, 27, 'Michel', 22, 'Helen', 'Adam', 48, 'Irma', 'Stefan', 19}"
   ]
  }
 ],
 "metadata": {
  "kernelspec": {
   "display_name": "Python 3 (ipykernel)",
   "language": "python",
   "name": "python3"
  },
  "language_info": {
   "codemirror_mode": {
    "name": "ipython",
    "version": 3
   },
   "file_extension": ".py",
   "mimetype": "text/x-python",
   "name": "python",
   "nbconvert_exporter": "python",
   "pygments_lexer": "ipython3",
   "version": "3.12.1"
  }
 },
 "nbformat": 4,
 "nbformat_minor": 5
}
